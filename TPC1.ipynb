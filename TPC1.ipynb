{
  "nbformat": 4,
  "nbformat_minor": 0,
  "metadata": {
    "colab": {
      "name": "TPC1.ipynb",
      "version": "0.3.2",
      "provenance": [],
      "include_colab_link": true
    },
    "kernelspec": {
      "name": "python3",
      "display_name": "Python 3"
    }
  },
  "cells": [
    {
      "cell_type": "markdown",
      "metadata": {
        "id": "view-in-github",
        "colab_type": "text"
      },
      "source": [
        "<a href=\"https://colab.research.google.com/github/ezequiasue/Student_30003749_BigData/blob/master/TPC1.ipynb\" target=\"_parent\"><img src=\"https://colab.research.google.com/assets/colab-badge.svg\" alt=\"Open In Colab\"/></a>"
      ]
    },
    {
      "metadata": {
        "id": "PmCaF3UrAcqn",
        "colab_type": "text"
      },
      "cell_type": "markdown",
      "source": [
        "Trabalho de Casa 1\n",
        "1) Implement in python a function i_index_gen() that given as input a set of documents (an array of strings) returns an inverted index based. Clean the text from punctuations chars or upper letters.\n",
        "\n",
        "2) Make a second function that returns the same i_index based on a pandas DataFrame without indexes\n",
        "\n",
        "3) Make a third function that returns the same i_index based on a pandas DataFrame using indexes\n",
        "\n",
        "4) Compare the performance for the three methods using %%time (you should increase your text example) and take your conclusions how lists, DataFrames (with or without indexes) manage searches\n",
        "\n",
        "Don't forget to\n",
        "\n",
        "present all results in a python notebook;\n",
        "Comment your code;\n",
        "Good Luck"
      ]
    },
    {
      "metadata": {
        "id": "ydDdfXrCCENC",
        "colab_type": "code",
        "colab": {}
      },
      "cell_type": "code",
      "source": [
        "def solution(N):\n",
        "  \n",
        "   "
      ],
      "execution_count": 0,
      "outputs": []
    }
  ]
}