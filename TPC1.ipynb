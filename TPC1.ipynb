{
  "nbformat": 4,
  "nbformat_minor": 0,
  "metadata": {
    "colab": {
      "name": "TPC1.ipynb",
      "version": "0.3.2",
      "provenance": [],
      "include_colab_link": true
    },
    "kernelspec": {
      "name": "python3",
      "display_name": "Python 3"
    }
  },
  "cells": [
    {
      "cell_type": "markdown",
      "metadata": {
        "id": "view-in-github",
        "colab_type": "text"
      },
      "source": [
        "<a href=\"https://colab.research.google.com/github/ezequiasue/Student_30003749_BigData/blob/master/TPC1.ipynb\" target=\"_parent\"><img src=\"https://colab.research.google.com/assets/colab-badge.svg\" alt=\"Open In Colab\"/></a>"
      ]
    },
    {
      "metadata": {
        "id": "PmCaF3UrAcqn",
        "colab_type": "text"
      },
      "cell_type": "markdown",
      "source": [
        "Trabalho de Casa 1\n",
        "1) Implement in python a function i_index_gen() that given as input a set of documents (an array of strings) returns an inverted index based. Clean the text from punctuations chars or upper letters.\n",
        "\n",
        "2) Make a second function that returns the same i_index based on a pandas DataFrame without indexes\n",
        "\n",
        "3) Make a third function that returns the same i_index based on a pandas DataFrame using indexes\n",
        "\n",
        "4) Compare the performance for the three methods using %%time (you should increase your text example) and take your conclusions how lists, DataFrames (with or without indexes) manage searches\n",
        "\n",
        "Don't forget to\n",
        "\n",
        "present all results in a python notebook;\n",
        "Comment your code;\n",
        "Good Luck\n",
        "\n",
        "\n",
        "\n",
        "#'Oracle', 'Java','SqlServer', 'Delphi', 'Python', 'Android', 'Oracle'"
      ]
    },
    {
      "metadata": {
        "id": "ydDdfXrCCENC",
        "colab_type": "code",
        "colab": {}
      },
      "cell_type": "code",
      "source": [
        "import pandas as pd\n",
        "\n",
        "lista = [5, 10, 15, 20, 25, 30, 35, 40, 45, 50,]\n",
        "\n",
        "#sort() method accepts a reverse parameter as an optional argument.Setting reverse=True sorts the list in the descending order\n",
        "lista.sort(reverse=True)\n",
        "\n",
        "\n",
        "A = \"Texto de teste para contar as vezes que aparecem palavras de teste,\"\n",
        "B = A.split(\" \")\n",
        "C = pd.Series(B) #Series is a one-dimensional labeled array capable of holding any data type (integers, strings, floating point numbers, Python objects, etc.).\n",
        "C.groupby(C).size()\n",
        "\n",
        "# the .upper() method on a string converts all of the characters to uppercase\n",
        "A = A.replace(\",\",\"\").replace(\".\",\"\").upper()\n",
        "B = A.split(\" \")"
      ],
      "execution_count": 0,
      "outputs": []
    },
    {
      "metadata": {
        "id": "qToJIBqe7Ucc",
        "colab_type": "code",
        "colab": {
          "base_uri": "https://localhost:8080/",
          "height": 289
        },
        "outputId": "2ef5ba4c-e17d-4eb9-845b-ea69446a6273"
      },
      "cell_type": "code",
      "source": [
        "print(A)\n",
        "print(B)\n",
        "print(C)\n",
        "\n",
        "print(lista)"
      ],
      "execution_count": 33,
      "outputs": [
        {
          "output_type": "stream",
          "text": [
            "TEXTO DE TESTE PARA CONTAR AS VEZES QUE APARECEM PALAVRAS DE TESTE\n",
            "['TEXTO', 'DE', 'TESTE', 'PARA', 'CONTAR', 'AS', 'VEZES', 'QUE', 'APARECEM', 'PALAVRAS', 'DE', 'TESTE']\n",
            "0        Texto\n",
            "1           de\n",
            "2        teste\n",
            "3         para\n",
            "4       contar\n",
            "5           as\n",
            "6        vezes\n",
            "7          que\n",
            "8     aparecem\n",
            "9     palavras\n",
            "10          de\n",
            "11      teste,\n",
            "dtype: object\n",
            "[50, 45, 40, 35, 30, 25, 20, 15, 10, 5]\n"
          ],
          "name": "stdout"
        }
      ]
    }
  ]
}