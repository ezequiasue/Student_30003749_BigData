def solution(N):
  
    bin_num = str(bin(N)[2:])
    list1 = bin_num.split('1')
    
   
