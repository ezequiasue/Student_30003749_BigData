{
  "nbformat": 4,
  "nbformat_minor": 0,
  "metadata": {
    "colab": {
      "name": "TPC0.ipynb",
      "version": "0.3.2",
      "provenance": [],
      "include_colab_link": true
    },
    "kernelspec": {
      "name": "python3",
      "display_name": "Python 3"
    }
  },
  "cells": [
    {
      "cell_type": "markdown",
      "metadata": {
        "id": "view-in-github",
        "colab_type": "text"
      },
      "source": [
        "<a href=\"https://colab.research.google.com/github/ezequiasue/Student_30003749_BigData/blob/master/TPC0.ipynb\" target=\"_parent\"><img src=\"https://colab.research.google.com/assets/colab-badge.svg\" alt=\"Open In Colab\"/></a>"
      ]
    },
    {
      "metadata": {
        "id": "PmCaF3UrAcqn",
        "colab_type": "text"
      },
      "cell_type": "markdown",
      "source": [
        "TPC 0 - Facultativo\n",
        "A binary gap within a positive integer N is any maximal sequence of consecutive zeros that is surrounded by ones at both ends in the binary representation of N.\n",
        "\n",
        "For example, number 9 has binary representation 1001 and contains a binary gap of length 2. The number 529 has binary representation 1000010001 and contains two binary gaps: one of length 4 and one of length 3. The number 20 has binary representation 10100 and contains one binary gap of length 1. The number 15 has binary representation 1111 and has no binary gaps.\n",
        "\n",
        "Write a function:\n",
        "\n",
        "def solution(N) that, given a positive integer N, returns the length of its longest binary gap. The function should return 0 if N doesn't contain a binary gap.\n",
        "\n",
        "For example, given N = 1041 the function should return 5, because N has binary representation 10000010001 and so its longest binary gap is of length 5.\n",
        "\n",
        "Assume that:\n",
        "\n",
        "N is an integer within the range [1..2,147,483,647]."
      ]
    },
    {
      "metadata": {
        "id": "ydDdfXrCCENC",
        "colab_type": "code",
        "colab": {}
      },
      "cell_type": "code",
      "source": [
        "def solution(N):\n",
        "  \n",
        "    bin_num = str(bin(N)[2:])\n",
        "    list1 = bin_num.split('1')\n",
        "    \n",
        "    max_gap =0\n",
        "    if bin_num.endswith('0'):\n",
        "        len1 = len(list1) - 1\n",
        "        \n",
        "    else:\n",
        "        len1 = len(list1)\n",
        "    if len1 != 0:\n",
        "      \n",
        "        for i in range(len1):\n",
        "            if max_gap < len(list1[i]):\n",
        "                max_gap = len(list1[i])\n",
        "                \n",
        "    return max_gap"
      ],
      "execution_count": 0,
      "outputs": []
    },
    {
      "metadata": {
        "id": "e1BiVr-LJs7g",
        "colab_type": "code",
        "colab": {
          "base_uri": "https://localhost:8080/",
          "height": 102
        },
        "outputId": "fcab3084-7e65-4102-a4ce-010dc9be0cad"
      },
      "cell_type": "code",
      "source": [
        "def solution (N):\n",
        "  N = x\n",
        "  \n",
        "bin_num = str(bin(N)[2:])\n",
        "\n",
        "list1 = bin_num.split('1')\n",
        "\n",
        "max_gap = 647\n",
        "\n",
        "if bin_num.endswith('0'):\n",
        "        len1 = len(list1) - 1\n",
        "\n",
        "print(bin_num)\n",
        "print(max_gap)\n",
        "print (N)\n",
        "print (len1)\n",
        "print(list1)\n",
        "\n",
        "  \n"
      ],
      "execution_count": 160,
      "outputs": [
        {
          "output_type": "stream",
          "text": [
            "1010000111\n",
            "647\n",
            "647\n",
            "0\n",
            "['', '0', '0000', '', '', '']\n"
          ],
          "name": "stdout"
        }
      ]
    }
  ]
}